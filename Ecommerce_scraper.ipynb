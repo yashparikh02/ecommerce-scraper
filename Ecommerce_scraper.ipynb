{
  "nbformat": 4,
  "nbformat_minor": 0,
  "metadata": {
    "colab": {
      "name": "Ecommerce-scraper.ipynb",
      "provenance": [],
      "collapsed_sections": [],
      "authorship_tag": "ABX9TyOFzM93kAaAsiowmrZkDH13",
      "include_colab_link": true
    },
    "kernelspec": {
      "name": "python3",
      "display_name": "Python 3"
    },
    "language_info": {
      "name": "python"
    }
  },
  "cells": [
    {
      "cell_type": "markdown",
      "metadata": {
        "id": "view-in-github",
        "colab_type": "text"
      },
      "source": [
        "<a href=\"https://colab.research.google.com/github/yashparikh02/ecommerce-scraper/blob/main/Ecommerce_scraper.ipynb\" target=\"_parent\"><img src=\"https://colab.research.google.com/assets/colab-badge.svg\" alt=\"Open In Colab\"/></a>"
      ]
    },
    {
      "cell_type": "markdown",
      "metadata": {
        "id": "wzNFWCtL79vN"
      },
      "source": [
        "Made by Yash Parikh, Aneesh Tekulapally and Ayo Oguntula as a proof of concept for the Farallon Case Study competition"
      ]
    },
    {
      "cell_type": "code",
      "metadata": {
        "id": "csYwPHox7IUe"
      },
      "source": [
        "from urllib.request import urlopen\n",
        "import csv"
      ],
      "execution_count": 181,
      "outputs": []
    },
    {
      "cell_type": "code",
      "metadata": {
        "id": "FefcPXPoHFQt"
      },
      "source": [
        "years = ['2016','2017','2018','2019','2020']\n",
        "bigCommerce = []\n",
        "shopify = []\n",
        "\n"
      ],
      "execution_count": 191,
      "outputs": []
    },
    {
      "cell_type": "code",
      "metadata": {
        "id": "TAV5ga2A7Qjg"
      },
      "source": [
        "\n",
        "for year in years:\n",
        "    url = \"https://web.archive.org/web/\" + year + \"/https://www.skullcandy.com/\"\n",
        "    page = urlopen(url)\n",
        "    html_bytes = page.read()\n",
        "    html = html_bytes.decode(\"latin-1\")\n",
        "    bigCommerce.append(int('bigcommerce' in html))\n",
        "    shopify.append(int('shopify' in html))\n",
        "\n"
      ],
      "execution_count": 192,
      "outputs": []
    },
    {
      "cell_type": "code",
      "metadata": {
        "colab": {
          "base_uri": "https://localhost:8080/"
        },
        "id": "p4RJQpwnWjO7",
        "outputId": "62e75ea3-815c-4e82-8b2a-eca1c6b7a8bd"
      },
      "source": [
        "print(years)\n",
        "print(bigCommerce)\n",
        "print(shopify)"
      ],
      "execution_count": 193,
      "outputs": [
        {
          "output_type": "stream",
          "name": "stdout",
          "text": [
            "['2016', '2017', '2018', '2019', '2020']\n",
            "[0, 0, 1, 1, 1]\n",
            "[0, 0, 1, 1, 1]\n"
          ]
        }
      ]
    },
    {
      "cell_type": "code",
      "metadata": {
        "colab": {
          "base_uri": "https://localhost:8080/"
        },
        "id": "tsCEu_Y_7XBK",
        "outputId": "6e8b203b-ffad-4f2f-d414-d73826c95c42"
      },
      "source": [
        "#combine information and get it ready to be put into a csv\n",
        "years.insert(0, 'Company')\n",
        "bigCommerce.insert(0,'BigCommerce')\n",
        "shopify.insert(0,'Shopify')\n",
        "data = []\n",
        "\n",
        "data.append(years)\n",
        "data.append(bigCommerce)\n",
        "data.append(shopify)\n",
        "print(data)\n"
      ],
      "execution_count": 194,
      "outputs": [
        {
          "output_type": "stream",
          "name": "stdout",
          "text": [
            "[['Company', '2016', '2017', '2018', '2019', '2020'], ['BigCommerce', 0, 0, 1, 1, 1], ['Shopify', 0, 0, 1, 1, 1]]\n"
          ]
        }
      ]
    },
    {
      "cell_type": "code",
      "metadata": {
        "colab": {
          "base_uri": "https://localhost:8080/"
        },
        "id": "Moiae07n71OA",
        "outputId": "7dfed4bb-a7df-441e-fc0e-00a06fce5466"
      },
      "source": [
        "print(data)\n",
        "with open('test.csv', 'w', newline = '') as f:\n",
        "    # create the csv writer\n",
        "    writer = csv.writer(f)\n",
        "    writer.writerows(data)\n",
        "\n"
      ],
      "execution_count": 195,
      "outputs": [
        {
          "output_type": "stream",
          "name": "stdout",
          "text": [
            "[['Company', '2016', '2017', '2018', '2019', '2020'], ['BigCommerce', 0, 0, 1, 1, 1], ['Shopify', 0, 0, 1, 1, 1]]\n"
          ]
        }
      ]
    },
    {
      "cell_type": "code",
      "metadata": {
        "id": "5KlM4Pil72Rn"
      },
      "source": [
        ""
      ],
      "execution_count": 176,
      "outputs": []
    }
  ]
}